{
 "cells": [
  {
   "cell_type": "code",
   "execution_count": 1,
   "metadata": {},
   "outputs": [],
   "source": [
    "import pandas as pd\n",
    "import numpy as np\n",
    "import matplotlib.pyplot as plt\n",
    "import seaborn as sns\n",
    "from sklearn.model_selection import train_test_split\n",
    "from sklearn.linear_model import LinearRegression\n",
    "from sklearn.impute import SimpleImputer\n",
    "from sklearn.svm import SVR\n",
    "from sklearn.metrics import r2_score"
   ]
  },
  {
   "cell_type": "code",
   "execution_count": 2,
   "metadata": {},
   "outputs": [],
   "source": [
    "\n",
    "# Load the data\n",
    "dataset = pd.read_csv('Agrofood_co2_emission.csv')\n",
    "X = dataset.iloc[:,1:-1].values\n",
    "Y= dataset.iloc[:,-1].values\n",
    "z= dataset.iloc[:,1:]"
   ]
  },
  {
   "cell_type": "code",
   "execution_count": 3,
   "metadata": {},
   "outputs": [],
   "source": [
    "\n",
    "imputer = SimpleImputer(missing_values=np.nan, strategy='mean')\n",
    "X_subset = X[:, 1:-1]\n",
    "imputer = imputer.fit(X_subset)\n",
    "X[:, 1:-1] = imputer.transform(X_subset)\n"
   ]
  },
  {
   "cell_type": "code",
   "execution_count": 4,
   "metadata": {},
   "outputs": [],
   "source": [
    "from sklearn.preprocessing import StandardScaler\n",
    "\n",
    "# Initialize and fit scaler\n",
    "scaler = StandardScaler()\n",
    "X_scaled = scaler.fit_transform(X)\n",
    "\n",
    "\n",
    "# Split the dataset into training and test sets\n",
    "X_train, X_test, Y_train, Y_test = train_test_split(X_scaled, Y, test_size=0.2, random_state=0)\n"
   ]
  },
  {
   "cell_type": "code",
   "execution_count": 5,
   "metadata": {},
   "outputs": [
    {
     "name": "stdout",
     "output_type": "stream",
     "text": [
      "Removed columns: ['On-farm Electricity Use', 'Agrifood Systems Waste Disposal', 'Total Population - Male', 'Total Population - Female']\n",
      "Reduced DataFrame shape: (6965, 26)\n"
     ]
    }
   ],
   "source": [
    "import pandas as pd\n",
    "\n",
    "# assume 'df' is your DataFrame with the columns\n",
    "\n",
    "# define the threshold for low correlation (e.g., 0.05)\n",
    "threshold = 0.01\n",
    "\n",
    "# get the correlation with the target column ('Average_Temperature')\n",
    "corr_with_target = z.corrwith(z['Average_Temperature'])\n",
    "\n",
    "# get the columns with low correlation\n",
    "low_corr_cols = corr_with_target[abs(corr_with_target) < threshold].index\n",
    "\n",
    "# remove the low-correlated columns\n",
    "z_reduced = z.drop(low_corr_cols, axis=1)\n",
    "\n",
    "print(\"Removed columns:\", low_corr_cols.tolist())\n",
    "print(\"Reduced DataFrame shape:\", z_reduced.shape)\n"
   ]
  },
  {
   "cell_type": "code",
   "execution_count": 6,
   "metadata": {},
   "outputs": [
    {
     "name": "stdout",
     "output_type": "stream",
     "text": [
      "Random Forest Regressor R-squared: 0.5779575176638407\n"
     ]
    }
   ],
   "source": [
    "from sklearn.ensemble import RandomForestRegressor\n",
    "\n",
    "# Initialize and train the model\n",
    "rf = RandomForestRegressor(  n_estimators=1000,   max_depth =10, random_state=0 )\n",
    "rf.fit(X_train, Y_train)\n",
    "\n",
    "# Predict and evaluate\n",
    "Y_pred = rf.predict(X_test)\n",
    "r2 = r2_score(Y_test, Y_pred)\n",
    "print(f'Random Forest Regressor R-squared: {r2}')\n"
   ]
  }
 ],
 "metadata": {
  "kernelspec": {
   "display_name": "base",
   "language": "python",
   "name": "python3"
  },
  "language_info": {
   "codemirror_mode": {
    "name": "ipython",
    "version": 3
   },
   "file_extension": ".py",
   "mimetype": "text/x-python",
   "name": "python",
   "nbconvert_exporter": "python",
   "pygments_lexer": "ipython3",
   "version": "3.12.4"
  }
 },
 "nbformat": 4,
 "nbformat_minor": 2
}
